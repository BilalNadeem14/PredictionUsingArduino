{
 "cells": [
  {
   "cell_type": "code",
   "execution_count": null,
   "id": "59644478",
   "metadata": {
    "scrolled": false
   },
   "outputs": [
    {
     "name": "stdout",
     "output_type": "stream",
     "text": [
      " * Serving Flask app '__main__'\n",
      " * Debug mode: off\n"
     ]
    },
    {
     "name": "stderr",
     "output_type": "stream",
     "text": [
      "WARNING: This is a development server. Do not use it in a production deployment. Use a production WSGI server instead.\n",
      " * Running on http://127.0.0.1:8002\n",
      "Press CTRL+C to quit\n"
     ]
    }
   ],
   "source": [
    "from flask import Flask, request, jsonify\n",
    "\n",
    "app = Flask(__name__)\n",
    "\n",
    "@app.route('/api/data', methods=['POST'])\n",
    "def receive_data():\n",
    "    data = request.get_json()  # Get JSON data sent from the client\n",
    "    print(data)  # Print the data to the console (or process it as needed)\n",
    "    return jsonify({'message': 'Data received successfully'}), 200  # Send a response back to the client\n",
    "\n",
    "# if __name__ == '__main__':\n",
    "#     app.run(debug=True, port=8082)\n",
    "    \n",
    "if __name__ == '__main__':\n",
    "    app.run(debug=true, port=8002)"
   ]
  },
  {
   "cell_type": "code",
   "execution_count": null,
   "id": "8b1fd0e3",
   "metadata": {},
   "outputs": [],
   "source": [
    "python --version"
   ]
  }
 ],
 "metadata": {
  "kernelspec": {
   "display_name": "Python 3 (ipykernel)",
   "language": "python",
   "name": "python3"
  },
  "language_info": {
   "codemirror_mode": {
    "name": "ipython",
    "version": 3
   },
   "file_extension": ".py",
   "mimetype": "text/x-python",
   "name": "python",
   "nbconvert_exporter": "python",
   "pygments_lexer": "ipython3",
   "version": "3.10.9"
  }
 },
 "nbformat": 4,
 "nbformat_minor": 5
}
