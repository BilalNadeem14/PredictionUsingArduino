{
 "cells": [
  {
   "cell_type": "code",
   "execution_count": 1,
   "id": "59644478",
   "metadata": {
    "scrolled": false
   },
   "outputs": [],
   "source": [
    "def trainDataSet(predicted_depth, predicted_magnitude):\n",
    "    import numpy as np\n",
    "    import pandas as pd\n",
    "    import datetime\n",
    "    import time\n",
    "    from sklearn.model_selection import train_test_split\n",
    "    from sklearn.ensemble import RandomForestRegressor\n",
    "    import matplotlib.pyplot as plt\n",
    "    import seaborn as sns\n",
    "    data=pd.read_csv(\"/Users/bilal/Downloads/database.csv\")\n",
    "    data.head()\n",
    "    data = data[['Date', 'Time', 'Latitude', 'Longitude', 'Depth', 'Magnitude']]\n",
    "    timestamp = []\n",
    "    for d, t in zip(data['Date'], data['Time']):\n",
    "        try:\n",
    "            ts = datetime.datetime.strptime(d+' '+t, '%m/%d/%Y %H:%M:%S')\n",
    "            timestamp.append(time.mktime(ts.timetuple()))\n",
    "        except ValueError:\n",
    "            # print('ValueError')\n",
    "            timestamp.append('ValueError')\n",
    "\n",
    "    timeStamp = pd.Series(timestamp)\n",
    "    data['Timestamp'] = timeStamp.values\n",
    "    final_data = data.drop(['Date', 'Time'], axis=1)\n",
    "    final_data = final_data[final_data.Timestamp != 'ValueError']\n",
    "    final_data.head()\n",
    "    X = final_data[['Timestamp', 'Latitude', 'Longitude', 'Magnitude', 'Depth']]\n",
    "    y = final_data[['Magnitude', 'Depth']]\n",
    "    X_train, X_test, y_train, y_test = train_test_split(X, y, test_size=0.2, random_state=6) #Random State 6 gives best result for this case\n",
    "    reg = RandomForestRegressor(random_state=6)\n",
    "    reg.fit(X_train, y_train)\n",
    "    reg.predict(X_test)\n",
    "    reg.score(X_test, y_test)\n",
    "    plt.hist(data['Magnitude'])\n",
    "    plt.xlabel('Magnitude Size')\n",
    "    plt.ylabel('Number of Occurrences')\n",
    "    plt.title('Magniture size vs Number of occurrences', fontweight = 20, fontsize = 10)\n",
    "    plt.show()\n",
    "    data['date']=data['Date'].apply(lambda x: pd.to_datetime(x))\n",
    "    data['year']=data['date'].apply(lambda x:str(x).split('-')[0])\n",
    "    plt.figure(figsize=(25,8))\n",
    "    sns.set(font_scale=1.0)\n",
    "    sns.countplot(x=\"year\",data=data)\n",
    "    plt.ylabel('Number of Earthquakes')\n",
    "#     predictEarthQuake(predicted_depth, predicted_magnitude)\n",
    "\n",
    "\n",
    "    # data\n",
    "\n",
    "    currentLongitude=24.8607\n",
    "    currentLatitude=67.0011\n",
    "    date='01/02/2023'\n",
    "    time_str='09:30:18'\n",
    "    depth=predicted_depth\n",
    "    magnitude=predicted_magnitude\n",
    "    # depth=5.1111970548639825\n",
    "    # magnitude=5.135231122357826\n",
    "\n",
    "    # Convert date and time to timestamp\n",
    "    ts = datetime.datetime.strptime(date + ' ' + time_str, '%m/%d/%Y %H:%M:%S')\n",
    "    timestamp = time.mktime(ts.timetuple())\n",
    "\n",
    "    # Create a DataFrame with your data\n",
    "    live_data = pd.DataFrame({\n",
    "        'Timestamp': [timestamp],\n",
    "        'Latitude': [currentLatitude],\n",
    "        'Longitude': [currentLongitude],\n",
    "        'Magnitude': [magnitude],\n",
    "        'Depth': [depth]\n",
    "    })\n",
    "\n",
    "    # Use the trained model to predict 'Magnitude' and 'Depth'\n",
    "    live_labels = reg.predict(live_data)\n",
    "\n",
    "    # live_labels now contains the predicted 'Magnitude' and 'Depth'\n",
    "    print(f'The predicted magnitude is {live_labels[0][0]} MW (Moment magnitude)')\n",
    "    print(f'The predicted depth is {live_labels[0][1]}')"
   ]
  },
  {
   "cell_type": "code",
   "execution_count": 2,
   "id": "7653dcc7",
   "metadata": {},
   "outputs": [],
   "source": [
    "def convertAccToMagnitudeAndDepth(acc):\n",
    "    import numpy as np\n",
    "    from sklearn.linear_model import LinearRegression\n",
    "\n",
    "    # Generate some random acceleration data\n",
    "    acceleration = np.random.normal(loc=0.0, scale=1.0, size=1000)\n",
    "\n",
    "    # Generate some random depth and magnitude data\n",
    "    # In a real scenario, you would use actual depth and magnitude data that corresponds to the acceleration data\n",
    "    depth = np.random.normal(loc=5.0, scale=2.0, size=1000)\n",
    "    magnitude = np.random.normal(loc=5.0, scale=2.0, size=1000)\n",
    "\n",
    "    # Combine depth and magnitude into a single array\n",
    "    targets = np.column_stack((depth, magnitude))\n",
    "\n",
    "    # Train a model\n",
    "    model = LinearRegression()\n",
    "    model.fit(acceleration.reshape(-1, 1), targets)\n",
    "\n",
    "    # Now you can use the model to predict depth and magnitude based on live acceleration data from your Arduino\n",
    "    # Let's assume you have this value from your Arduino\n",
    "    live_acceleration = acc #1.0020  # replace with actual value\n",
    "\n",
    "    # Predict the depth and magnitude\n",
    "    predicted_depth, predicted_magnitude = model.predict(np.array([[live_acceleration]]))[0]\n",
    "\n",
    "#     print(f'The predicted depth is {predicted_depth}')\n",
    "#     print(f'The predicted magnitude is {predicted_magnitude}')\n",
    "    return {\n",
    "        'predicted_depth': predicted_depth,\n",
    "        'predicted_magnitude': predicted_magnitude\n",
    "    }\n",
    "\n"
   ]
  },
  {
   "cell_type": "code",
   "execution_count": 3,
   "id": "8b1fd0e3",
   "metadata": {},
   "outputs": [
    {
     "ename": "SyntaxError",
     "evalue": "incomplete input (97553172.py, line 2)",
     "output_type": "error",
     "traceback": [
      "\u001b[0;36m  Cell \u001b[0;32mIn[3], line 2\u001b[0;36m\u001b[0m\n\u001b[0;31m    \u001b[0m\n\u001b[0m    ^\u001b[0m\n\u001b[0;31mSyntaxError\u001b[0m\u001b[0;31m:\u001b[0m incomplete input\n"
     ]
    }
   ],
   "source": [
    "def predictEarthQuake(predicted_depth, predicted_magnitude):\n",
    "    "
   ]
  },
  {
   "cell_type": "code",
   "execution_count": null,
   "id": "f10c1003",
   "metadata": {},
   "outputs": [],
   "source": []
  },
  {
   "cell_type": "code",
   "execution_count": null,
   "id": "41028d9c",
   "metadata": {},
   "outputs": [],
   "source": []
  },
  {
   "cell_type": "code",
   "execution_count": null,
   "id": "003f472d",
   "metadata": {},
   "outputs": [],
   "source": []
  },
  {
   "cell_type": "code",
   "execution_count": null,
   "id": "8839f5f6",
   "metadata": {},
   "outputs": [
    {
     "name": "stdout",
     "output_type": "stream",
     "text": [
      " * Serving Flask app '__main__'\n",
      " * Debug mode: off\n"
     ]
    },
    {
     "name": "stderr",
     "output_type": "stream",
     "text": [
      "WARNING: This is a development server. Do not use it in a production deployment. Use a production WSGI server instead.\n",
      " * Running on http://127.0.0.1:8002\n",
      "Press CTRL+C to quit\n",
      "127.0.0.1 - - [26/Jul/2023 02:25:06] \"OPTIONS /api/data HTTP/1.1\" 200 -\n"
     ]
    },
    {
     "name": "stdout",
     "output_type": "stream",
     "text": [
      "b'{\"H\":\"83.0114\",\"T\":\"34.2446\",\"A\":\"0.9692\"}'\n",
      "{'H': '83.0114', 'T': '34.2446', 'A': '0.9692'}\n",
      "acceleration:  0.9692\n"
     ]
    },
    {
     "data": {
      "image/png": "[encoded data removed]",
      "text/plain": [
       "<Figure size 640x480 with 1 Axes>"
      ]
     },
     "metadata": {},
     "output_type": "display_data"
    },
    {
     "name": "stderr",
     "output_type": "stream",
     "text": [
      "127.0.0.1 - - [26/Jul/2023 02:25:12] \"POST /api/data HTTP/1.1\" 200 -\n"
     ]
    },
    {
     "name": "stdout",
     "output_type": "stream",
     "text": [
      "The predicted magnitude is 5.501 MW (Moment magnitude)\n",
      "The predicted depth is 4.975900000000004\n"
     ]
    }
   ],
   "source": [
    "from flask import Flask, request, jsonify\n",
    "from flask_cors import CORS\n",
    "\n",
    "app = Flask(__name__)\n",
    "CORS(app)\n",
    "\n",
    "@app.route('/api/data', methods=['POST'])\n",
    "def receive_data():\n",
    "    print(request.data)  # Print the raw request data\n",
    "    data = request.get_json()  # Get JSON data sent from the client\n",
    "    print(data)  # Print the data to the console (or process it as needed)\n",
    "    print('acceleration: ', data['A'])\n",
    "    trainDataSet(convertAccToMagnitudeAndDepth(float(data['A']))['predicted_depth'], convertAccToMagnitudeAndDepth(float(data['A']))['predicted_magnitude'])\n",
    "    return jsonify({'message': 'Data received successfully'}), 200  # Send a response back to the client\n",
    "\n",
    "if __name__ == '__main__':\n",
    "    app.run(debug=False, port=8002)\n",
    "# , port=5002"
   ]
  },
  {
   "cell_type": "code",
   "execution_count": null,
   "id": "ea74a0a9",
   "metadata": {},
   "outputs": [],
   "source": []
  },
  {
   "cell_type": "code",
   "execution_count": null,
   "id": "5f0c2e47",
   "metadata": {},
   "outputs": [],
   "source": []
  }
 ],
 "metadata": {
  "kernelspec": {
   "display_name": "Python 3 (ipykernel)",
   "language": "python",
   "name": "python3"
  },
  "language_info": {
   "codemirror_mode": {
    "name": "ipython",
    "version": 3
   },
   "file_extension": ".py",
   "mimetype": "text/x-python",
   "name": "python",
   "nbconvert_exporter": "python",
   "pygments_lexer": "ipython3",
   "version": "3.10.9"
  }
 },
 "nbformat": 4,
 "nbformat_minor": 5
}
